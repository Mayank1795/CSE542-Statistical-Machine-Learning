{
 "cells": [
  {
   "cell_type": "code",
   "execution_count": 6,
   "metadata": {},
   "outputs": [],
   "source": [
    "def ROC(data, proba, title = False):\n",
    "    \"\"\"\n",
    "        Args:\n",
    "            - data : test set with last column containing labels\n",
    "            - proba : np array of test set likelihoods w.r.t every class 0 to c-1, OR 1 to c, where c = total classes\n",
    "        Task:\n",
    "            - Plot the ROC Curve for Multi class\n",
    "            - No. of thresholds = 200\n",
    "    \"\"\"\n",
    "    prb = pd.DataFrame(proba)\n",
    "    org_labels = pd.DataFrame(data[:,-1], columns=['class'])\n",
    "    dt = pd.concat([prb, org_labels], axis = 1)\n",
    "#  \n",
    "    total_cls = dt['class'].unique().shape[0]\n",
    "    thresholds = np.linspace(0, 1, num = 100)\n",
    "    \n",
    "    roc_points = pd.DataFrame(columns = ['class', 'FPR', 'TPR']) # class, fpr, tpr\n",
    "    \n",
    "    for cls in range(0, total_cls):\n",
    "        for thres in thresholds:\n",
    "            tp = 0\n",
    "            fp = 0\n",
    "            fn = 0\n",
    "            tn = 0\n",
    "            \n",
    "            tp = dt.loc[(dt[cls] > thres) & (dt['class'] == cls)].shape[0]\n",
    "            fp = dt.loc[dt[cls] > thres].shape[0] - tp\n",
    "            \n",
    "            tn = dt.loc[(dt[cls] < thres) & (dt['class'] != cls)].shape[0]\n",
    "            fn = dt.loc[dt[cls] < thres].shape[0] - tn\n",
    "            \n",
    "            if (fp == 0):\n",
    "                if(tp == 0):\n",
    "                    pts = np.array([cls, 0, 0])\n",
    "                else:\n",
    "                    pts = np.array([cls, 0, tp/(tp+fn)])\n",
    "            elif (tp == 0):\n",
    "                if(fp == 0):\n",
    "                    pts = np.array([cls, 0, 0])\n",
    "                else:\n",
    "                    pts = np.array([cls, fp/(fp+tn), 0])\n",
    "            else:\n",
    "                pts = np.array([cls,fp/(fp+tn), tp/(tp+fn)])\n",
    "                \n",
    "            roc_points = roc_points.append(pd.Series(pts, index = ['class', 'FPR', 'TPR']), ignore_index = True)\n",
    "       \n",
    "    ax = sns.lineplot(x = 'FPR', y = 'TPR', data = roc_points, hue = 'class', legend = 'full', palette = 'tab10')\n",
    "    ax.set_title('ROC Curve for '+title)\n",
    "    plt.plot([0,1],[0,1],'--c')\n",
    "    return\n",
    "        \n",
    "    "
   ]
  },
  {
   "cell_type": "code",
   "execution_count": 1,
   "metadata": {},
   "outputs": [],
   "source": [
    "def eigenFaces(eigenvectors):\n",
    "    fig, axes = plt.subplots(5, 5)\n",
    "    \n",
    "    total_eigenfaces = eigenvectors.shape[0]\n",
    "    fig.set_size_inches(6,9)\n",
    "    \n",
    "    f = 0\n",
    "    nr = 5\n",
    "    nc = 5\n",
    "    \n",
    "    for i in range(0, nr):\n",
    "        for j in range(0, nc):\n",
    "            img = np.reshape(eigenvectors[f,:], (48, 42))\n",
    "            axes[i, j].imshow(img, cmap=\"gray\")\n",
    "            axes[i, j].set_title('PC #'+str(f))\n",
    "            f+=1\n",
    "            \n",
    "    fig.suptitle('Eigen Faces')\n",
    "    fig.subplots_adjust(top=0.88)\n",
    "    plt.tight_layout()\n",
    "    return"
   ]
  },
  {
   "cell_type": "code",
   "execution_count": 3,
   "metadata": {},
   "outputs": [
    {
     "data": {
      "text/plain": [
       "4"
      ]
     },
     "execution_count": 3,
     "metadata": {},
     "output_type": "execute_result"
    }
   ],
   "source": [
    "def drawConfusionMatrix(cm, title = False):\n",
    "    predict_ll = [ 'Predict '+str(i) for i in range(0, no_of_classes)]\n",
    "    actual_ll = [ 'Actual '+str(i) for i in range(0, no_of_classes)]\n",
    "    \n",
    "    hm = pd.DataFrame(cm, index = predict_ll, columns = actual_ll)\n",
    "    sns.heatmap(hm, annot = True, fmt='g', cmap = \"YlGnBu\")\n",
    "    plt.title('Confusion Matrix for '+title)\n",
    "    return\n",
    "        "
   ]
  },
  {
   "cell_type": "code",
   "execution_count": null,
   "metadata": {},
   "outputs": [],
   "source": []
  },
  {
   "cell_type": "code",
   "execution_count": null,
   "metadata": {},
   "outputs": [],
   "source": []
  }
 ],
 "metadata": {
  "kernelspec": {
   "display_name": "Python 3",
   "language": "python",
   "name": "python3"
  },
  "language_info": {
   "codemirror_mode": {
    "name": "ipython",
    "version": 3
   },
   "file_extension": ".py",
   "mimetype": "text/x-python",
   "name": "python",
   "nbconvert_exporter": "python",
   "pygments_lexer": "ipython3",
   "version": "3.6.7"
  }
 },
 "nbformat": 4,
 "nbformat_minor": 2
}
